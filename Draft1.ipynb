{
  "nbformat": 4,
  "nbformat_minor": 0,
  "metadata": {
    "colab": {
      "provenance": [],
      "authorship_tag": "ABX9TyP5yZnEJ5BEXDeyREKsLyDs",
      "include_colab_link": true
    },
    "kernelspec": {
      "name": "python3",
      "display_name": "Python 3"
    },
    "language_info": {
      "name": "python"
    }
  },
  "cells": [
    {
      "cell_type": "markdown",
      "metadata": {
        "id": "view-in-github",
        "colab_type": "text"
      },
      "source": [
        "<a href=\"https://colab.research.google.com/github/toluwlase/Lase-Komenti/blob/main/Draft1.ipynb\" target=\"_parent\"><img src=\"https://colab.research.google.com/assets/colab-badge.svg\" alt=\"Open In Colab\"/></a>"
      ]
    },
    {
      "cell_type": "code",
      "execution_count": null,
      "metadata": {
        "id": "CoJUtr5CPqqw"
      },
      "outputs": [],
      "source": [
        "!wget -r -N -c -np --user toluwalase --ask-password https://physionet.org/files/mimic-iv-note/2.2/"
      ]
    },
    {
      "cell_type": "code",
      "source": [
        "from google.colab import drive\n",
        "drive.mount('/content/drive')"
      ],
      "metadata": {
        "id": "awFGhxK3PtdG"
      },
      "execution_count": null,
      "outputs": []
    },
    {
      "cell_type": "code",
      "source": [
        "import os\n",
        "\n",
        "# Specify the directory path\n",
        "directory_path = '/content/drive/MyDrive/physionet.org/files/mimic-iv-note/2.2/note'\n",
        "\n",
        "# Change the current working directory\n",
        "os.chdir(directory_path)"
      ],
      "metadata": {
        "id": "76aMtvssPw7l"
      },
      "execution_count": null,
      "outputs": []
    },
    {
      "cell_type": "code",
      "source": [
        "!wget https://github.com/reality/komenti/releases/download/0.2.0-SNAPSHOT-4/komenti-0.2.0-SNAPSHOT.zip"
      ],
      "metadata": {
        "id": "p32h0gAbPzsN"
      },
      "execution_count": null,
      "outputs": []
    },
    {
      "cell_type": "code",
      "source": [
        "!unzip komenti-0.2.0-SNAPSHOT.zip"
      ],
      "metadata": {
        "id": "03aSKR-nP2Ce"
      },
      "execution_count": null,
      "outputs": []
    },
    {
      "cell_type": "code",
      "source": [
        "!mv komenti-0.2.0-SNAPSHOT komenti"
      ],
      "metadata": {
        "id": "3YuwPJhHP5pm"
      },
      "execution_count": null,
      "outputs": []
    },
    {
      "cell_type": "code",
      "source": [
        "!rm -rf klarigi"
      ],
      "metadata": {
        "id": "aqG3WlU8P6Vm"
      },
      "execution_count": null,
      "outputs": []
    },
    {
      "cell_type": "code",
      "source": [
        "!wget https://github.com/reality/klarigi/releases/download/0.1.3-SNAPSHOT/klarigi-0.1.3-SNAPSHOT.tar"
      ],
      "metadata": {
        "id": "RFVWpUAUP8bm"
      },
      "execution_count": null,
      "outputs": []
    },
    {
      "cell_type": "code",
      "source": [
        "!tar -xvf klarigi-0.1.3-SNAPSHOT.tar"
      ],
      "metadata": {
        "id": "QqoxSvfXP-qW"
      },
      "execution_count": null,
      "outputs": []
    },
    {
      "cell_type": "code",
      "source": [
        "!mv klarigi-0.1.3-SNAPSHOT klarigi"
      ],
      "metadata": {
        "id": "jb6eWU2GQBEW"
      },
      "execution_count": null,
      "outputs": []
    },
    {
      "cell_type": "code",
      "source": [
        "import gzip\n",
        "import shutil\n",
        "with gzip.open('discharge.csv.gz', 'rb') as f_in:\n",
        "    with open('dischargenotes.csv', 'wb') as f_out:\n",
        "        shutil.copyfileobj(f_in, f_out)"
      ],
      "metadata": {
        "id": "eHe_U0J6QD_G"
      },
      "execution_count": null,
      "outputs": []
    },
    {
      "cell_type": "code",
      "source": [
        "pd.set_option('display.max_colwidth', None)"
      ],
      "metadata": {
        "id": "tkfYaqprQLnH"
      },
      "execution_count": null,
      "outputs": []
    },
    {
      "cell_type": "code",
      "source": [
        "# import pandas module\n",
        "import pandas as pd\n",
        "\t\n",
        "# making dataframe\n",
        "df = pd.read_csv(\"dischargenotes.csv\")\n",
        "\n",
        "# output the dataframe\n",
        "print(df)\n"
      ],
      "metadata": {
        "id": "UGmiR84IQNaP"
      },
      "execution_count": null,
      "outputs": []
    },
    {
      "cell_type": "code",
      "source": [
        "# Import necessary libraries for reading CSV files\n",
        "# Use this if you want to save only a certain number, count = amount\n",
        "import csv\n",
        "import string\n",
        "\n",
        "records_by_item = dict()\n",
        "with open('dischargenotes.csv') as data:\n",
        "    reader = csv.DictReader(data)\n",
        "    count = 0  # Counter variable to track the number of processed rows\n",
        "    for row in reader:\n",
        "        # Remove trailing space from the text column\n",
        "        row['text'] = row['text'].strip()\n",
        "\n",
        "        # row['hadm_id'] refers to the unique identifier column\n",
        "        records_by_item[row['hadm_id']] = row\n",
        "        \n",
        "        count += 1  # Increment the counter\n",
        "        if count == 40000:\n",
        "            break  # Exrt the loop after processing 4000 rows\n",
        "\n",
        "print('Done!')\n"
      ],
      "metadata": {
        "id": "7TiOhrNYQTLP"
      },
      "execution_count": null,
      "outputs": []
    },
    {
      "cell_type": "code",
      "source": [
        "# Import necessary libraries for reading CSV files\n",
        "# Use this to make notes out of every note.\n",
        "import csv\n",
        "import string\n",
        "\n",
        "records_by_item = dict()\n",
        "with open('dischargenotes.csv') as data:\n",
        "    reader = csv.DictReader(data)\n",
        "    for row in reader:\n",
        "        # Remove trailing space from the text column\n",
        "        row['text'] = row['text'].strip()\n",
        "\n",
        "        # row['hadm_id'] refers to the unique identifier column\n",
        "        records_by_item[row['hadm_id']] = row\n",
        "    \n",
        "\n",
        "print('Done!')\n"
      ],
      "metadata": {
        "id": "7-DA5ooIQi3H"
      },
      "execution_count": null,
      "outputs": []
    },
    {
      "cell_type": "code",
      "source": [
        "print(len(records_by_item))"
      ],
      "metadata": {
        "id": "rErAs2MPQ3Gn"
      },
      "execution_count": null,
      "outputs": []
    },
    {
      "cell_type": "code",
      "source": [
        "!mkdir texts"
      ],
      "metadata": {
        "id": "ocjHu_68QwMf"
      },
      "execution_count": null,
      "outputs": []
    },
    {
      "cell_type": "code",
      "source": [
        "# Iterate the text records\n",
        "for key in records_by_item:\n",
        "  item = records_by_item[key]\n",
        "  # Create a new file in the texts/ directory, with the name [note id].txt\n",
        "  filename = 'texts/' + key + '.txt'\n",
        "  with open(filename, 'w') as f:\n",
        "    f.write(item['text'])\n",
        "\n",
        "print('Done!')"
      ],
      "metadata": {
        "id": "AqqY4NEIQxOW"
      },
      "execution_count": null,
      "outputs": []
    },
    {
      "cell_type": "code",
      "source": [
        "!komenti/bin/komenti annotate -t texts/ -l smol_doid_vocab.tsv --out annotations.txt --verbose"
      ],
      "metadata": {
        "id": "w8HIqnW5RELf"
      },
      "execution_count": null,
      "outputs": []
    },
    {
      "cell_type": "code",
      "source": [
        "import csv\n",
        "\n",
        "phenotype_profiles = dict()\n",
        "\n",
        "with open('annotations.txt') as data:\n",
        "    reader = csv.reader(data, delimiter='\\t')\n",
        "    for row in reader:\n",
        "        if len(row) >= 8:  # Check if the row has at least 8 columns\n",
        "            text_id = row[0].split('.')[0]\n",
        "            if text_id not in phenotype_profiles:\n",
        "                phenotype_profiles[text_id] = list()\n",
        "\n",
        "            item = {'iri': row[1], 'label': row[2], 'tags': row[4].split(',')}\n",
        "            phenotype_profiles[text_id].append(item)\n",
        "\n",
        "print('done!')\n",
        "\n",
        "\n"
      ],
      "metadata": {
        "id": "QLRhTU-vRJBf"
      },
      "execution_count": null,
      "outputs": []
    },
    {
      "cell_type": "code",
      "source": [
        "# Access and print the contents of phenotype_profiles\n",
        "for text_id, annotations in phenotype_profiles.items():\n",
        "    print(f\"Text ID: {text_id}\")\n",
        "    for annotation in annotations:\n",
        "        print(f\"IRI: {annotation['iri']}\")\n",
        "        print(f\"Label: {annotation['label']}\")\n",
        "        print(f\"Tags: {annotation['tags']}\")\n",
        "        print('-' * 10)"
      ],
      "metadata": {
        "id": "HT1xn4bxROuX"
      },
      "execution_count": null,
      "outputs": []
    }
  ]
}